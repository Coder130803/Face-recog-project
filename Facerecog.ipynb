{
 "cells": [
  {
   "cell_type": "code",
   "execution_count": 2,
   "metadata": {},
   "outputs": [],
   "source": [
    "import os\n",
    "import random\n",
    "import shutil\n",
    "import glob\n",
    "\n",
    "\n",
    "random.seed(4)\n",
    "dataset=r\"C:\\Users\\sahil\\Downloads\\dataset\"\n",
    "labels = os.listdir(dataset)\n",
    "labels.remove('Others')\n",
    "for each_label in labels:\n",
    "    labels = glob.glob( dataset + \"\\\\\" + each_label + \"\\\\*.jpg\")\n",
    "    labels = [x.split(\"\\\\\")[-1] for x in labels]\n",
    "    random.shuffle(labels)\n",
    "    train_labels = labels[: int(0.8*len(labels))]\n",
    "    test_labels = labels[int(0.8*len(labels)) : ]\n",
    "    os.makedirs(os.path.join(dataset, each_label, 'train'), exist_ok = True)\n",
    "    os.makedirs(os.path.join(dataset, each_label, 'test'), exist_ok = True)\n",
    "    train_paths = [shutil.move(os.path.join(dataset, each_label, x), os.path.join(dataset, each_label, \"train\", x)) for x in train_labels]\n",
    "    test_paths = [shutil.move(os.path.join(dataset, each_label, x), os.path.join(dataset, each_label, \"test\", x)) for x in test_labels]\n",
    "\n"
   ]
  },
  {
   "cell_type": "code",
   "execution_count": 3,
   "metadata": {},
   "outputs": [
    {
     "ename": "NameError",
     "evalue": "name 'Image' is not defined",
     "output_type": "error",
     "traceback": [
      "\u001b[1;31m---------------------------------------------------------------------------\u001b[0m",
      "\u001b[1;31mNameError\u001b[0m                                 Traceback (most recent call last)",
      "Cell \u001b[1;32mIn[3], line 9\u001b[0m\n\u001b[0;32m      6\u001b[0m \u001b[39m#Data transform (normalization & data augmentation)\u001b[39;00m\n\u001b[0;32m      7\u001b[0m stats \u001b[39m=\u001b[39m ((\u001b[39m0.4914\u001b[39m, \u001b[39m0.4822\u001b[39m, \u001b[39m0.4465\u001b[39m), (\u001b[39m0.2023\u001b[39m, \u001b[39m0.1994\u001b[39m, \u001b[39m0.2010\u001b[39m))\n\u001b[0;32m      8\u001b[0m train_tfms \u001b[39m=\u001b[39m tt\u001b[39m.\u001b[39mCompose([tt\u001b[39m.\u001b[39mRandomCrop(\u001b[39m32\u001b[39m, padding \u001b[39m=\u001b[39m \u001b[39m4\u001b[39m, padding_mode \u001b[39m=\u001b[39m \u001b[39m'\u001b[39m\u001b[39mreflect\u001b[39m\u001b[39m'\u001b[39m),\n\u001b[1;32m----> 9\u001b[0m                          tt\u001b[39m.\u001b[39mRandomHorizontalFlip(),tt\u001b[39m.\u001b[39mRandomAffine(degrees\u001b[39m=\u001b[39m(\u001b[39m10\u001b[39m, \u001b[39m30\u001b[39m),translate\u001b[39m=\u001b[39m(\u001b[39m0.1\u001b[39m, \u001b[39m0.3\u001b[39m),scale\u001b[39m=\u001b[39m(\u001b[39m0.7\u001b[39m, \u001b[39m1.3\u001b[39m),shear\u001b[39m=\u001b[39m\u001b[39m0.1\u001b[39m, resample\u001b[39m=\u001b[39mImage\u001b[39m.\u001b[39mBICUBIC),\n\u001b[0;32m     10\u001b[0m                          tt\u001b[39m.\u001b[39mToTensor(),\n\u001b[0;32m     11\u001b[0m                          tt\u001b[39m.\u001b[39mNormalize(\u001b[39m*\u001b[39mstats)])\n\u001b[0;32m     12\u001b[0m train_ds\u001b[39m=\u001b[39mtrain_paths(\u001b[39m'\u001b[39m\u001b[39mcontent/train\u001b[39m\u001b[39m'\u001b[39m, train_tfms)\n",
      "\u001b[1;31mNameError\u001b[0m: name 'Image' is not defined"
     ]
    }
   ],
   "source": [
    "\n",
    "import torchvision\n",
    "import torchvision.transforms as tt\n",
    "\n",
    "\n",
    "from torchvision.datasets import ImageFolder\n",
    "#Data transform (normalization & data augmentation)\n",
    "stats = ((0.4914, 0.4822, 0.4465), (0.2023, 0.1994, 0.2010))\n",
    "train_tfms = tt.Compose([tt.RandomCrop(32, padding = 4, padding_mode = 'reflect'),\n",
    "                         tt.RandomHorizontalFlip(),tt.RandomAffine(degrees=(10, 30),translate=(0.1, 0.3),scale=(0.7, 1.3),shear=0.1, resample=Image.BICUBIC),\n",
    "                         tt.ToTensor(),\n",
    "                         tt.Normalize(*stats)])\n",
    "train_ds=train_paths('content/train', train_tfms)"
   ]
  },
  {
   "cell_type": "markdown",
   "metadata": {},
   "source": []
  }
 ],
 "metadata": {
  "kernelspec": {
   "display_name": "Python 3",
   "language": "python",
   "name": "python3"
  },
  "language_info": {
   "codemirror_mode": {
    "name": "ipython",
    "version": 3
   },
   "file_extension": ".py",
   "mimetype": "text/x-python",
   "name": "python",
   "nbconvert_exporter": "python",
   "pygments_lexer": "ipython3",
   "version": "3.10.6"
  },
  "orig_nbformat": 4
 },
 "nbformat": 4,
 "nbformat_minor": 2
}
